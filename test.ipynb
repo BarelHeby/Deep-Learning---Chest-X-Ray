{
  "nbformat": 4,
  "nbformat_minor": 0,
  "metadata": {
    "colab": {
      "provenance": [],
      "authorship_tag": "ABX9TyMjYEIG5v4W4y6nTtVRKzFD",
      "include_colab_link": true
    },
    "kernelspec": {
      "name": "python3",
      "display_name": "Python 3"
    },
    "language_info": {
      "name": "python"
    }
  },
  "cells": [
    {
      "cell_type": "markdown",
      "metadata": {
        "id": "view-in-github",
        "colab_type": "text"
      },
      "source": [
        "<a href=\"https://colab.research.google.com/github/BarelHeby/Deep-Learning---Chest-X-Ray/blob/main/test.ipynb\" target=\"_parent\"><img src=\"https://colab.research.google.com/assets/colab-badge.svg\" alt=\"Open In Colab\"/></a>"
      ]
    },
    {
      "cell_type": "markdown",
      "source": [
        "# **Testing Notebook**\n",
        "\n",
        "---\n",
        "\n"
      ],
      "metadata": {
        "id": "7MEyPCJJX4oM"
      }
    },
    {
      "cell_type": "markdown",
      "source": [
        "# Initial Setups\n",
        "---\n",
        "\n"
      ],
      "metadata": {
        "id": "pPCOO4Lom_PX"
      }
    },
    {
      "cell_type": "code",
      "source": [
        "# Imports\n",
        "import keras\n",
        "import shutil\n",
        "import os\n",
        "import cv2\n",
        "import numpy as np\n",
        "import tensorflow as tf\n",
        "from sklearn.metrics import mean_squared_error\n",
        "\n",
        "# Constants Definitions\n",
        "CLASS_NAMES_MODEL_1=[\"NORMAL\",\"PNEUMONIA\"]\n",
        "CLASS_NAMES_MODEL_2=['BACTERIA', 'NORMAL', 'VIRUS']\n",
        "THRESHOLD_ASSIGMENT_3 = 0.007\n",
        "\n",
        "TASK_1_1 = 1\n",
        "TASK_1_2 = 2\n",
        "TASK_3 = 3\n",
        "\n",
        "# Models Setup\n",
        "try:\n",
        "  shutil.rmtree(\"/content/deep_learning_xray\")\n",
        "except:\n",
        "  pass\n",
        "!gdown -q --folder https://drive.google.com/drive/u/0/folders/1b1w5RIpdrlQw6f48n1ALvREPfmP-B96p\n",
        "model_assigment_1_1 = keras.models.load_model(\"/content/deep_learning_xray/Models/model_assigment_1.keras\")\n",
        "model_assigment_1_2 = keras.models.load_model(\"/content/deep_learning_xray/Models/model_assigment_2.keras\")\n",
        "model_assigment_3 = keras.models.load_model(\"/content/deep_learning_xray/Models/model_assigment_3.keras\")"
      ],
      "metadata": {
        "id": "AdxuRFVcjIU-"
      },
      "execution_count": 1,
      "outputs": []
    },
    {
      "cell_type": "markdown",
      "source": [
        "---\n",
        "# **Classifier Class**\n",
        "---\n",
        "\n",
        "\n",
        "This class is like a tool for sorting your data into different groups. To start using it, you need to set it up with two things:\n",
        "\n",
        "\n",
        "*   the model (which is like the brain of the tool)\n",
        "*   the task number (which tells the tool what job you want it to do)\n",
        "\n",
        "\n",
        "Once it’s set up, you can use the class function to start  classifying your objects."
      ],
      "metadata": {
        "id": "Ym0mpDSUh_do"
      }
    },
    {
      "cell_type": "code",
      "source": [
        "class Classifier:\n",
        "  def __init__(self,model:keras.Model,assigment_number) -> None:\n",
        "    self.model = model\n",
        "    self.assigment_number = assigment_number\n",
        "\n",
        "  def __path_to_image(self,image_path):\n",
        "    img = cv2.imread(image_path,cv2.IMREAD_COLOR)\n",
        "    img = cv2.resize(img,(256,256))\n",
        "    if self.assigment_number==3:\n",
        "      img = img.astype(np.float32)\n",
        "      img/=255.0\n",
        "    return img\n",
        "\n",
        "  def __classify(self,images:np.array):\n",
        "    predictions=[]\n",
        "    prediction = self.model.predict(images,verbose=0)\n",
        "    if self.assigment_number==1:\n",
        "      for p in prediction:\n",
        "        predictions.append( CLASS_NAMES_MODEL_1[0] if p <0.5 else CLASS_NAMES_MODEL_1[1])\n",
        "\n",
        "    if self.assigment_number==2:\n",
        "      for p in prediction:\n",
        "        idx = np.argmax(p)\n",
        "        predictions.append(CLASS_NAMES_MODEL_2[idx])\n",
        "\n",
        "    if self.assigment_number==3:\n",
        "      for pred,origin in zip(prediction,images):\n",
        "        mse= self.__get_mse_values(origin,pred)\n",
        "        predictions.append( \"NORMAL\" if mse < THRESHOLD_ASSIGMENT_3 else \"PNEUMONIA\")\n",
        "\n",
        "    return predictions\n",
        "\n",
        "  def classify_by_image_path(self,image_path):\n",
        "    img = self.__path_to_image(image_path)\n",
        "    return self.__classify(np.array([img]))[0]\n",
        "\n",
        "  def classify_folder(self,folder_path):\n",
        "    images_paths = [os.path.join(folder_path,img_name) for img_name in os.listdir(folder_path) if img_name.endswith((\"jpeg\",\"jpg\")) ]\n",
        "    images_to_classify = [self.__path_to_image(img_path) for img_path in images_paths]\n",
        "    return self.__classify(np.array(images_to_classify))\n",
        "\n",
        "  def __get_mse_values(self,img_data,prediction):\n",
        "    img_data = img_data.reshape(img_data.shape[0], -1)\n",
        "    prediction = prediction.reshape(prediction.shape[0], -1)\n",
        "    return mean_squared_error(img_data, prediction)"
      ],
      "metadata": {
        "id": "XpSKH0YFfnGT"
      },
      "execution_count": 2,
      "outputs": []
    },
    {
      "cell_type": "markdown",
      "source": [
        "# Usage Examples"
      ],
      "metadata": {
        "id": "8CIscT6jnGzb"
      }
    },
    {
      "cell_type": "code",
      "source": [
        "NORMAL_folder = \"/content/deep_learning_xray/Data/NORMAL\"\n",
        "PNEUMONIA_folder = \"/content/deep_learning_xray/Data/PNEUMONIA\"\n",
        "task_1_1_classifier = Classifier(model_assigment_1_1,TASK_1_1)\n",
        "print(task_1_1_classifier.classify_folder(PNEUMONIA_folder))\n",
        "task_1_1_classifier.classify_by_image_path(\"/content/deep_learning_xray/Data/NORMAL/IM-0129-0001.jpeg\")"
      ],
      "metadata": {
        "colab": {
          "base_uri": "https://localhost:8080/",
          "height": 55
        },
        "id": "fLIsg8i9gqZC",
        "outputId": "9dba683c-293c-4aea-b304-43ec37023667"
      },
      "execution_count": 13,
      "outputs": [
        {
          "output_type": "stream",
          "name": "stdout",
          "text": [
            "['PNEUMONIA', 'PNEUMONIA', 'PNEUMONIA', 'PNEUMONIA']\n"
          ]
        },
        {
          "output_type": "execute_result",
          "data": {
            "text/plain": [
              "'NORMAL'"
            ],
            "application/vnd.google.colaboratory.intrinsic+json": {
              "type": "string"
            }
          },
          "metadata": {},
          "execution_count": 13
        }
      ]
    },
    {
      "cell_type": "code",
      "source": [
        "BACKTERIA_image_path = \"/content/deep_learning_xray/Data/PNEUMONIA/person1004_bacteria_2935.jpeg\"\n",
        "VIRUS_image_path = \"/content/deep_learning_xray/Data/PNEUMONIA/person1003_virus_1685.jpeg\"\n",
        "NORMAL_image_path = \"/content/deep_learning_xray/Data/NORMAL/IM-0141-0001.jpeg\"\n",
        "\n",
        "task_1_2_classifier = Classifier(model_assigment_1_2,TASK_1_2)\n",
        "print(task_1_2_classifier.classify_by_image_path(BACKTERIA_image_path))\n",
        "print(task_1_2_classifier.classify_by_image_path(VIRUS_image_path))\n",
        "print(task_1_2_classifier.classify_by_image_path(NORMAL_image_path))"
      ],
      "metadata": {
        "colab": {
          "base_uri": "https://localhost:8080/"
        },
        "id": "Xb8xX7WaN-8d",
        "outputId": "acc8cc1e-5c25-448f-ee54-8edfe14ccd7e"
      },
      "execution_count": 16,
      "outputs": [
        {
          "output_type": "stream",
          "name": "stdout",
          "text": [
            "BACTERIA\n",
            "VIRUS\n",
            "NORMAL\n"
          ]
        }
      ]
    },
    {
      "cell_type": "code",
      "source": [
        "task_3_classifier = Classifier(model_assigment_3,TASK_3)\n",
        "print(task_3_classifier.classify_by_image_path(\"/content/deep_learning_xray/Data/NORMAL/IM-0129-0001.jpeg\"))\n",
        "print(task_3_classifier.classify_by_image_path(\"/content/deep_learning_xray/Data/PNEUMONIA/person1018_virus_1706.jpeg\"))\n",
        "print(task_3_classifier.classify_folder(NORMAL_folder))\n",
        "print(task_3_classifier.classify_folder(PNEUMONIA_folder))"
      ],
      "metadata": {
        "colab": {
          "base_uri": "https://localhost:8080/"
        },
        "id": "hqfk1D_zkr22",
        "outputId": "2b7bfd36-4a6e-45f4-fd17-c28b7be43a31"
      },
      "execution_count": 17,
      "outputs": [
        {
          "output_type": "stream",
          "name": "stdout",
          "text": [
            "NORMAL\n",
            "PNEUMONIA\n",
            "['NORMAL', 'NORMAL']\n",
            "['PNEUMONIA', 'PNEUMONIA', 'PNEUMONIA', 'PNEUMONIA']\n"
          ]
        }
      ]
    }
  ]
}